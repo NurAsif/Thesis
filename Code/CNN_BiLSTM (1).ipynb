{
  "cells": [
    {
      "cell_type": "code",
      "execution_count": null,
      "metadata": {
        "id": "umugSxxJ5nkE"
      },
      "outputs": [],
      "source": [
        "import pandas as pd\n",
        "import numpy as np\n",
        "import nltk\n",
        "\n",
        "from nltk.tokenize import word_tokenize\n",
        "import re\n",
        "\n",
        "import matplotlib.pyplot as plt\n",
        "%matplotlib inline\n",
        "\n",
        "from sklearn.metrics import accuracy_score, f1_score, confusion_matrix\n",
        "\n",
        "from keras.preprocessing.text import Tokenizer\n",
        "from tensorflow.keras.utils import to_categorical\n",
        "\n",
        "from keras.models import Sequential\n",
        "from keras.layers import Embedding, Bidirectional, LSTM, GRU, Dense, Dropout, SpatialDropout1D\n",
        "from keras.layers import Conv1D , GlobalMaxPooling1D,MaxPooling1D,Conv2D\n",
        "from keras.callbacks import ModelCheckpoint"
      ]
    },
    {
      "cell_type": "code",
      "execution_count": null,
      "metadata": {
        "id": "rB_xLen85t4k"
      },
      "outputs": [],
      "source": [
        "num_classes = 3\n",
        "\n",
        "embed_num_dims = 200\n",
        "max_seq_len = 1000\n",
        "\n",
        "\n",
        "class_names = ['Positive', 'Negative','Neutral']"
      ]
    },
    {
      "cell_type": "code",
      "execution_count": null,
      "metadata": {
        "id": "FrYaT3KJ5t-t"
      },
      "outputs": [],
      "source": [
        "def shuffle(df, n=1, axis=0):\n",
        "    df = df.copy()\n",
        "    for _ in range(n):\n",
        "      df.apply(np.random.shuffle, axis=axis)\n",
        "    return df"
      ]
    },
    {
      "cell_type": "code",
      "execution_count": null,
      "metadata": {
        "id": "rZzy_Pbw5uDz"
      },
      "outputs": [],
      "source": [
        "data=pd.read_excel('/content/daraz.xlsx')"
      ]
    },
    {
      "cell_type": "code",
      "execution_count": null,
      "metadata": {
        "colab": {
          "base_uri": "https://localhost:8080/"
        },
        "id": "sUpWYG5_5uI7",
        "outputId": "c697e089-4204-4ecb-a2d4-d4c06e139653"
      },
      "outputs": [
        {
          "output_type": "stream",
          "name": "stdout",
          "text": [
            "Index(['Sl', 'Text', 'Categore', 'Polarity'], dtype='object')\n"
          ]
        }
      ],
      "source": [
        "print(data.columns)"
      ]
    },
    {
      "cell_type": "code",
      "execution_count": null,
      "metadata": {
        "colab": {
          "base_uri": "https://localhost:8080/"
        },
        "id": "3sasaySs5uOC",
        "outputId": "98525d70-7d11-40fd-f6a7-c281b06f7bb6"
      },
      "outputs": [
        {
          "output_type": "execute_result",
          "data": {
            "text/plain": [
              "True"
            ]
          },
          "metadata": {},
          "execution_count": 34
        }
      ],
      "source": [
        "data.isnull().values.any()"
      ]
    },
    {
      "cell_type": "code",
      "execution_count": null,
      "metadata": {
        "id": "0X2if4Ef5uTf"
      },
      "outputs": [],
      "source": [
        "data.dropna(subset = [\"Text\",\"Polarity\"], inplace =True )"
      ]
    },
    {
      "cell_type": "code",
      "execution_count": null,
      "metadata": {
        "colab": {
          "base_uri": "https://localhost:8080/"
        },
        "id": "vNG5tSek5uY0",
        "outputId": "34f20100-1424-46f4-af7d-29794b69438d"
      },
      "outputs": [
        {
          "output_type": "execute_result",
          "data": {
            "text/plain": [
              "True"
            ]
          },
          "metadata": {},
          "execution_count": 36
        }
      ],
      "source": [
        "data.isnull().values.any()"
      ]
    },
    {
      "cell_type": "code",
      "execution_count": null,
      "metadata": {
        "colab": {
          "base_uri": "https://localhost:8080/",
          "height": 466
        },
        "id": "kyjAkVJA5ueV",
        "outputId": "9948eadf-fc74-4bf1-d3d1-b4469c7c1d43"
      },
      "outputs": [
        {
          "output_type": "execute_result",
          "data": {
            "text/plain": [
              "<Axes: xlabel='Polarity', ylabel='count'>"
            ]
          },
          "metadata": {},
          "execution_count": 37
        },
        {
          "output_type": "display_data",
          "data": {
            "text/plain": [
              "<Figure size 640x480 with 1 Axes>"
            ],
            "image/png": "[encoded data removed]"
          },
          "metadata": {}
        }
      ],
      "source": [
        "import seaborn as sns\n",
        "sns.countplot(x='Polarity', data=data)"
      ]
    },
    {
      "cell_type": "code",
      "execution_count": null,
      "metadata": {
        "id": "Baldl4n65ukB"
      },
      "outputs": [],
      "source": [
        "data.sort_values(by='Polarity', axis=0, inplace=True)\n",
        "\n",
        "data.set_index(keys=['Polarity'], drop=False,inplace=True)\n",
        "Categorys=data['Polarity'].unique().tolist()"
      ]
    },
    {
      "cell_type": "markdown",
      "source": [],
      "metadata": {
        "id": "9DirK7ytjg2h"
      }
    },
    {
      "cell_type": "code",
      "execution_count": null,
      "metadata": {
        "colab": {
          "base_uri": "https://localhost:8080/"
        },
        "id": "Giwk2GKe5upT",
        "outputId": "ec0f3b66-220f-44dc-be2e-03c99e9e8015"
      },
      "outputs": [
        {
          "output_type": "stream",
          "name": "stderr",
          "text": [
            "/usr/local/lib/python3.10/dist-packages/pandas/core/apply.py:814: UserWarning: you are shuffling a 'Series' object which is not a subclass of 'Sequence'; `shuffle` is not guaranteed to behave correctly. E.g., non-numpy array/tensor objects with view semantics may contain duplicates after shuffling.\n",
            "  results[i] = self.f(v)\n",
            "/usr/local/lib/python3.10/dist-packages/pandas/core/apply.py:814: UserWarning: you are shuffling a 'Series' object which is not a subclass of 'Sequence'; `shuffle` is not guaranteed to behave correctly. E.g., non-numpy array/tensor objects with view semantics may contain duplicates after shuffling.\n",
            "  results[i] = self.f(v)\n",
            "/usr/local/lib/python3.10/dist-packages/pandas/core/apply.py:814: UserWarning: you are shuffling a 'Series' object which is not a subclass of 'Sequence'; `shuffle` is not guaranteed to behave correctly. E.g., non-numpy array/tensor objects with view semantics may contain duplicates after shuffling.\n",
            "  results[i] = self.f(v)\n",
            "/usr/local/lib/python3.10/dist-packages/pandas/core/apply.py:814: UserWarning: you are shuffling a 'Series' object which is not a subclass of 'Sequence'; `shuffle` is not guaranteed to behave correctly. E.g., non-numpy array/tensor objects with view semantics may contain duplicates after shuffling.\n",
            "  results[i] = self.f(v)\n",
            "/usr/local/lib/python3.10/dist-packages/pandas/core/apply.py:814: UserWarning: you are shuffling a 'Series' object which is not a subclass of 'Sequence'; `shuffle` is not guaranteed to behave correctly. E.g., non-numpy array/tensor objects with view semantics may contain duplicates after shuffling.\n",
            "  results[i] = self.f(v)\n",
            "/usr/local/lib/python3.10/dist-packages/pandas/core/apply.py:814: UserWarning: you are shuffling a 'Series' object which is not a subclass of 'Sequence'; `shuffle` is not guaranteed to behave correctly. E.g., non-numpy array/tensor objects with view semantics may contain duplicates after shuffling.\n",
            "  results[i] = self.f(v)\n",
            "/usr/local/lib/python3.10/dist-packages/pandas/core/apply.py:814: UserWarning: you are shuffling a 'Series' object which is not a subclass of 'Sequence'; `shuffle` is not guaranteed to behave correctly. E.g., non-numpy array/tensor objects with view semantics may contain duplicates after shuffling.\n",
            "  results[i] = self.f(v)\n",
            "/usr/local/lib/python3.10/dist-packages/pandas/core/apply.py:814: UserWarning: you are shuffling a 'Series' object which is not a subclass of 'Sequence'; `shuffle` is not guaranteed to behave correctly. E.g., non-numpy array/tensor objects with view semantics may contain duplicates after shuffling.\n",
            "  results[i] = self.f(v)\n",
            "/usr/local/lib/python3.10/dist-packages/pandas/core/apply.py:814: UserWarning: you are shuffling a 'Series' object which is not a subclass of 'Sequence'; `shuffle` is not guaranteed to behave correctly. E.g., non-numpy array/tensor objects with view semantics may contain duplicates after shuffling.\n",
            "  results[i] = self.f(v)\n",
            "/usr/local/lib/python3.10/dist-packages/pandas/core/apply.py:814: UserWarning: you are shuffling a 'Series' object which is not a subclass of 'Sequence'; `shuffle` is not guaranteed to behave correctly. E.g., non-numpy array/tensor objects with view semantics may contain duplicates after shuffling.\n",
            "  results[i] = self.f(v)\n",
            "/usr/local/lib/python3.10/dist-packages/pandas/core/apply.py:814: UserWarning: you are shuffling a 'Series' object which is not a subclass of 'Sequence'; `shuffle` is not guaranteed to behave correctly. E.g., non-numpy array/tensor objects with view semantics may contain duplicates after shuffling.\n",
            "  results[i] = self.f(v)\n",
            "/usr/local/lib/python3.10/dist-packages/pandas/core/apply.py:814: UserWarning: you are shuffling a 'Series' object which is not a subclass of 'Sequence'; `shuffle` is not guaranteed to behave correctly. E.g., non-numpy array/tensor objects with view semantics may contain duplicates after shuffling.\n",
            "  results[i] = self.f(v)\n"
          ]
        }
      ],
      "source": [
        "positives = shuffle(data.loc[data.Polarity=='Positive'])\n",
        "negatives = shuffle(data.loc[data.Polarity=='Negative'])\n",
        "neutrals = shuffle(data.loc[data.Polarity=='Neutral'])"
      ]
    },
    {
      "cell_type": "code",
      "execution_count": null,
      "metadata": {
        "colab": {
          "base_uri": "https://localhost:8080/"
        },
        "id": "13CA0G0y5uum",
        "outputId": "ee534c2c-f31f-4bc1-f230-9348f0c6e1b3"
      },
      "outputs": [
        {
          "output_type": "stream",
          "name": "stdout",
          "text": [
            "(10637, 4)\n",
            "(10637, 4)\n"
          ]
        }
      ],
      "source": [
        "positives_train = positives.iloc[0:int(positives.shape[0]*1)]\n",
        "positives_test = positives.iloc[0:int(positives.shape[0]*1)]\n",
        "\n",
        "negatives_train = negatives.iloc[0:int(negatives.shape[0]*1)]\n",
        "negatives_test = negatives.iloc[0:int(negatives.shape[0]*1)]\n",
        "\n",
        "neutrals_train = neutrals.iloc[0:int(neutrals.shape[0]*1)]\n",
        "neutrals_test = neutrals.iloc[0:int(neutrals.shape[0]*1)]\n",
        "\n",
        "data_train = pd.concat([positives_train, negatives_train, neutrals_train])\n",
        "data_test = pd.concat([positives_test, negatives_test, neutrals_test])\n",
        "\n",
        "print(data_train.shape)\n",
        "print(data_test.shape)"
      ]
    },
    {
      "cell_type": "code",
      "execution_count": null,
      "metadata": {
        "colab": {
          "base_uri": "https://localhost:8080/",
          "height": 449
        },
        "id": "R_zUVdO-5uzp",
        "outputId": "074862a4-4afd-4594-fc6f-1ad1ae865ed5"
      },
      "outputs": [
        {
          "output_type": "stream",
          "name": "stdout",
          "text": [
            "Polarity\n",
            "Positive    9032\n",
            "Neutral     6212\n",
            "Negative    6030\n",
            "Name: count, dtype: int64\n"
          ]
        },
        {
          "output_type": "execute_result",
          "data": {
            "text/plain": [
              "     Sl                                               Text Categore  Polarity\n",
              "0  4301                        ৪৮৫ টাকায় দারুন প্রোডাক্ট।    phone  Positive\n",
              "1  2027  প্যাকেজিং খুব ভালো ছিল। খুব সুন্দর ভাবে ও দ্রু...    phone  Positive\n",
              "2  2964  ২৯ টাকার হিসাবে পেঁয়াজ সাইজে বেশ বড়। ভালো কোয়া...    phone  Positive\n",
              "3  4355  গত কাল প্রোডাক্ট পেয়েছি। ৬বছরের বাচ্চার জন্য ন...    phone  Positive\n",
              "4  4005  আলহামদুলিল্লাহ যেমনটা চেয়েছে তেমন পেয়েছি।বই হও...    phone  Positive\n",
              "5  3234  এটা ভালো যেমন অডাড় করেছি তেমন পেয়েছি খুব ভালো ...    phone  Positive\n",
              "6  3180  প্রোডাক্টটি খুবই সুন্দর হয়েছে সেলসম্যান অনেক ...    phone  Positive\n",
              "7  4400  ক্যাশ ব্যাক আর ভাউচারে মাত্র ৩১৩ টাকায় পেয়েছি।...    saree  Positive\n",
              "8  3788  সব কিছুই ঠিকঠাক মত পেয়েছি,,মিস্তিরি পাইলে লাগি...    phone  Positive\n",
              "9   446  ব্যাগের আন্টাগুলো স্টিল হলে ভাল হতো, \\nআপনারা ...    phone  Positive"
            ],
            "text/html": [
              "\n",
              "  <div id=\"df-db3c6f01-7d8f-4390-92da-c9f5e4b79ef3\" class=\"colab-df-container\">\n",
              "    <div>\n",
              "<style scoped>\n",
              "    .dataframe tbody tr th:only-of-type {\n",
              "        vertical-align: middle;\n",
              "    }\n",
              "\n",
              "    .dataframe tbody tr th {\n",
              "        vertical-align: top;\n",
              "    }\n",
              "\n",
              "    .dataframe thead th {\n",
              "        text-align: right;\n",
              "    }\n",
              "</style>\n",
              "<table border=\"1\" class=\"dataframe\">\n",
              "  <thead>\n",
              "    <tr style=\"text-align: right;\">\n",
              "      <th></th>\n",
              "      <th>Sl</th>\n",
              "      <th>Text</th>\n",
              "      <th>Categore</th>\n",
              "      <th>Polarity</th>\n",
              "    </tr>\n",
              "  </thead>\n",
              "  <tbody>\n",
              "    <tr>\n",
              "      <th>0</th>\n",
              "      <td>4301</td>\n",
              "      <td>৪৮৫ টাকায় দারুন প্রোডাক্ট।</td>\n",
              "      <td>phone</td>\n",
              "      <td>Positive</td>\n",
              "    </tr>\n",
              "    <tr>\n",
              "      <th>1</th>\n",
              "      <td>2027</td>\n",
              "      <td>প্যাকেজিং খুব ভালো ছিল। খুব সুন্দর ভাবে ও দ্রু...</td>\n",
              "      <td>phone</td>\n",
              "      <td>Positive</td>\n",
              "    </tr>\n",
              "    <tr>\n",
              "      <th>2</th>\n",
              "      <td>2964</td>\n",
              "      <td>২৯ টাকার হিসাবে পেঁয়াজ সাইজে বেশ বড়। ভালো কোয়া...</td>\n",
              "      <td>phone</td>\n",
              "      <td>Positive</td>\n",
              "    </tr>\n",
              "    <tr>\n",
              "      <th>3</th>\n",
              "      <td>4355</td>\n",
              "      <td>গত কাল প্রোডাক্ট পেয়েছি। ৬বছরের বাচ্চার জন্য ন...</td>\n",
              "      <td>phone</td>\n",
              "      <td>Positive</td>\n",
              "    </tr>\n",
              "    <tr>\n",
              "      <th>4</th>\n",
              "      <td>4005</td>\n",
              "      <td>আলহামদুলিল্লাহ যেমনটা চেয়েছে তেমন পেয়েছি।বই হও...</td>\n",
              "      <td>phone</td>\n",
              "      <td>Positive</td>\n",
              "    </tr>\n",
              "    <tr>\n",
              "      <th>5</th>\n",
              "      <td>3234</td>\n",
              "      <td>এটা ভালো যেমন অডাড় করেছি তেমন পেয়েছি খুব ভালো ...</td>\n",
              "      <td>phone</td>\n",
              "      <td>Positive</td>\n",
              "    </tr>\n",
              "    <tr>\n",
              "      <th>6</th>\n",
              "      <td>3180</td>\n",
              "      <td>প্রোডাক্টটি খুবই সুন্দর হয়েছে সেলসম্যান অনেক ...</td>\n",
              "      <td>phone</td>\n",
              "      <td>Positive</td>\n",
              "    </tr>\n",
              "    <tr>\n",
              "      <th>7</th>\n",
              "      <td>4400</td>\n",
              "      <td>ক্যাশ ব্যাক আর ভাউচারে মাত্র ৩১৩ টাকায় পেয়েছি।...</td>\n",
              "      <td>saree</td>\n",
              "      <td>Positive</td>\n",
              "    </tr>\n",
              "    <tr>\n",
              "      <th>8</th>\n",
              "      <td>3788</td>\n",
              "      <td>সব কিছুই ঠিকঠাক মত পেয়েছি,,মিস্তিরি পাইলে লাগি...</td>\n",
              "      <td>phone</td>\n",
              "      <td>Positive</td>\n",
              "    </tr>\n",
              "    <tr>\n",
              "      <th>9</th>\n",
              "      <td>446</td>\n",
              "      <td>ব্যাগের আন্টাগুলো স্টিল হলে ভাল হতো, \\nআপনারা ...</td>\n",
              "      <td>phone</td>\n",
              "      <td>Positive</td>\n",
              "    </tr>\n",
              "  </tbody>\n",
              "</table>\n",
              "</div>\n",
              "    <div class=\"colab-df-buttons\">\n",
              "\n",
              "  <div class=\"colab-df-container\">\n",
              "    <button class=\"colab-df-convert\" onclick=\"convertToInteractive('df-db3c6f01-7d8f-4390-92da-c9f5e4b79ef3')\"\n",
              "            title=\"Convert this dataframe to an interactive table.\"\n",
              "            style=\"display:none;\">\n",
              "\n",
              "  <svg xmlns=\"http://www.w3.org/2000/svg\" height=\"24px\" viewBox=\"0 -960 960 960\">\n",
              "    <path d=\"M120-120v-720h720v720H120Zm60-500h600v-160H180v160Zm220 220h160v-160H400v160Zm0 220h160v-160H400v160ZM180-400h160v-160H180v160Zm440 0h160v-160H620v160ZM180-180h160v-160H180v160Zm440 0h160v-160H620v160Z\"/>\n",
              "  </svg>\n",
              "    </button>\n",
              "\n",
              "  <style>\n",
              "    .colab-df-container {\n",
              "      display:flex;\n",
              "      gap: 12px;\n",
              "    }\n",
              "\n",
              "    .colab-df-convert {\n",
              "      background-color: #E8F0FE;\n",
              "      border: none;\n",
              "      border-radius: 50%;\n",
              "      cursor: pointer;\n",
              "      display: none;\n",
              "      fill: #1967D2;\n",
              "      height: 32px;\n",
              "      padding: 0 0 0 0;\n",
              "      width: 32px;\n",
              "    }\n",
              "\n",
              "    .colab-df-convert:hover {\n",
              "      background-color: #E2EBFA;\n",
              "      box-shadow: 0px 1px 2px rgba(60, 64, 67, 0.3), 0px 1px 3px 1px rgba(60, 64, 67, 0.15);\n",
              "      fill: #174EA6;\n",
              "    }\n",
              "\n",
              "    .colab-df-buttons div {\n",
              "      margin-bottom: 4px;\n",
              "    }\n",
              "\n",
              "    [theme=dark] .colab-df-convert {\n",
              "      background-color: #3B4455;\n",
              "      fill: #D2E3FC;\n",
              "    }\n",
              "\n",
              "    [theme=dark] .colab-df-convert:hover {\n",
              "      background-color: #434B5C;\n",
              "      box-shadow: 0px 1px 3px 1px rgba(0, 0, 0, 0.15);\n",
              "      filter: drop-shadow(0px 1px 2px rgba(0, 0, 0, 0.3));\n",
              "      fill: #FFFFFF;\n",
              "    }\n",
              "  </style>\n",
              "\n",
              "    <script>\n",
              "      const buttonEl =\n",
              "        document.querySelector('#df-db3c6f01-7d8f-4390-92da-c9f5e4b79ef3 button.colab-df-convert');\n",
              "      buttonEl.style.display =\n",
              "        google.colab.kernel.accessAllowed ? 'block' : 'none';\n",
              "\n",
              "      async function convertToInteractive(key) {\n",
              "        const element = document.querySelector('#df-db3c6f01-7d8f-4390-92da-c9f5e4b79ef3');\n",
              "        const dataTable =\n",
              "          await google.colab.kernel.invokeFunction('convertToInteractive',\n",
              "                                                    [key], {});\n",
              "        if (!dataTable) return;\n",
              "\n",
              "        const docLinkHtml = 'Like what you see? Visit the ' +\n",
              "          '<a target=\"_blank\" href=https://colab.research.google.com/notebooks/data_table.ipynb>data table notebook</a>'\n",
              "          + ' to learn more about interactive tables.';\n",
              "        element.innerHTML = '';\n",
              "        dataTable['output_type'] = 'display_data';\n",
              "        await google.colab.output.renderOutput(dataTable, element);\n",
              "        const docLink = document.createElement('div');\n",
              "        docLink.innerHTML = docLinkHtml;\n",
              "        element.appendChild(docLink);\n",
              "      }\n",
              "    </script>\n",
              "  </div>\n",
              "\n",
              "\n",
              "<div id=\"df-412928c6-1a8d-437f-afd3-fa6f557f7e04\">\n",
              "  <button class=\"colab-df-quickchart\" onclick=\"quickchart('df-412928c6-1a8d-437f-afd3-fa6f557f7e04')\"\n",
              "            title=\"Suggest charts\"\n",
              "            style=\"display:none;\">\n",
              "\n",
              "<svg xmlns=\"http://www.w3.org/2000/svg\" height=\"24px\"viewBox=\"0 0 24 24\"\n",
              "     width=\"24px\">\n",
              "    <g>\n",
              "        <path d=\"M19 3H5c-1.1 0-2 .9-2 2v14c0 1.1.9 2 2 2h14c1.1 0 2-.9 2-2V5c0-1.1-.9-2-2-2zM9 17H7v-7h2v7zm4 0h-2V7h2v10zm4 0h-2v-4h2v4z\"/>\n",
              "    </g>\n",
              "</svg>\n",
              "  </button>\n",
              "\n",
              "<style>\n",
              "  .colab-df-quickchart {\n",
              "      --bg-color: #E8F0FE;\n",
              "      --fill-color: #1967D2;\n",
              "      --hover-bg-color: #E2EBFA;\n",
              "      --hover-fill-color: #174EA6;\n",
              "      --disabled-fill-color: #AAA;\n",
              "      --disabled-bg-color: #DDD;\n",
              "  }\n",
              "\n",
              "  [theme=dark] .colab-df-quickchart {\n",
              "      --bg-color: #3B4455;\n",
              "      --fill-color: #D2E3FC;\n",
              "      --hover-bg-color: #434B5C;\n",
              "      --hover-fill-color: #FFFFFF;\n",
              "      --disabled-bg-color: #3B4455;\n",
              "      --disabled-fill-color: #666;\n",
              "  }\n",
              "\n",
              "  .colab-df-quickchart {\n",
              "    background-color: var(--bg-color);\n",
              "    border: none;\n",
              "    border-radius: 50%;\n",
              "    cursor: pointer;\n",
              "    display: none;\n",
              "    fill: var(--fill-color);\n",
              "    height: 32px;\n",
              "    padding: 0;\n",
              "    width: 32px;\n",
              "  }\n",
              "\n",
              "  .colab-df-quickchart:hover {\n",
              "    background-color: var(--hover-bg-color);\n",
              "    box-shadow: 0 1px 2px rgba(60, 64, 67, 0.3), 0 1px 3px 1px rgba(60, 64, 67, 0.15);\n",
              "    fill: var(--button-hover-fill-color);\n",
              "  }\n",
              "\n",
              "  .colab-df-quickchart-complete:disabled,\n",
              "  .colab-df-quickchart-complete:disabled:hover {\n",
              "    background-color: var(--disabled-bg-color);\n",
              "    fill: var(--disabled-fill-color);\n",
              "    box-shadow: none;\n",
              "  }\n",
              "\n",
              "  .colab-df-spinner {\n",
              "    border: 2px solid var(--fill-color);\n",
              "    border-color: transparent;\n",
              "    border-bottom-color: var(--fill-color);\n",
              "    animation:\n",
              "      spin 1s steps(1) infinite;\n",
              "  }\n",
              "\n",
              "  @keyframes spin {\n",
              "    0% {\n",
              "      border-color: transparent;\n",
              "      border-bottom-color: var(--fill-color);\n",
              "      border-left-color: var(--fill-color);\n",
              "    }\n",
              "    20% {\n",
              "      border-color: transparent;\n",
              "      border-left-color: var(--fill-color);\n",
              "      border-top-color: var(--fill-color);\n",
              "    }\n",
              "    30% {\n",
              "      border-color: transparent;\n",
              "      border-left-color: var(--fill-color);\n",
              "      border-top-color: var(--fill-color);\n",
              "      border-right-color: var(--fill-color);\n",
              "    }\n",
              "    40% {\n",
              "      border-color: transparent;\n",
              "      border-right-color: var(--fill-color);\n",
              "      border-top-color: var(--fill-color);\n",
              "    }\n",
              "    60% {\n",
              "      border-color: transparent;\n",
              "      border-right-color: var(--fill-color);\n",
              "    }\n",
              "    80% {\n",
              "      border-color: transparent;\n",
              "      border-right-color: var(--fill-color);\n",
              "      border-bottom-color: var(--fill-color);\n",
              "    }\n",
              "    90% {\n",
              "      border-color: transparent;\n",
              "      border-bottom-color: var(--fill-color);\n",
              "    }\n",
              "  }\n",
              "</style>\n",
              "\n",
              "  <script>\n",
              "    async function quickchart(key) {\n",
              "      const quickchartButtonEl =\n",
              "        document.querySelector('#' + key + ' button');\n",
              "      quickchartButtonEl.disabled = true;  // To prevent multiple clicks.\n",
              "      quickchartButtonEl.classList.add('colab-df-spinner');\n",
              "      try {\n",
              "        const charts = await google.colab.kernel.invokeFunction(\n",
              "            'suggestCharts', [key], {});\n",
              "      } catch (error) {\n",
              "        console.error('Error during call to suggestCharts:', error);\n",
              "      }\n",
              "      quickchartButtonEl.classList.remove('colab-df-spinner');\n",
              "      quickchartButtonEl.classList.add('colab-df-quickchart-complete');\n",
              "    }\n",
              "    (() => {\n",
              "      let quickchartButtonEl =\n",
              "        document.querySelector('#df-412928c6-1a8d-437f-afd3-fa6f557f7e04 button');\n",
              "      quickchartButtonEl.style.display =\n",
              "        google.colab.kernel.accessAllowed ? 'block' : 'none';\n",
              "    })();\n",
              "  </script>\n",
              "</div>\n",
              "\n",
              "    </div>\n",
              "  </div>\n"
            ],
            "application/vnd.google.colaboratory.intrinsic+json": {
              "type": "dataframe",
              "variable_name": "data",
              "summary": "{\n  \"name\": \"data\",\n  \"rows\": 21274,\n  \"fields\": [\n    {\n      \"column\": \"Sl\",\n      \"properties\": {\n        \"dtype\": \"number\",\n        \"std\": 3070,\n        \"min\": 1,\n        \"max\": 10638,\n        \"num_unique_values\": 10637,\n        \"samples\": [\n          2164,\n          2553,\n          3625\n        ],\n        \"semantic_type\": \"\",\n        \"description\": \"\"\n      }\n    },\n    {\n      \"column\": \"Text\",\n      \"properties\": {\n        \"dtype\": \"category\",\n        \"num_unique_values\": 7608,\n        \"samples\": [\n          \"\\u0986\\u09b2\\u09b9\\u09be\\u09ae\\u09a6\\u09c1\\u09b2\\u09bf\\u09b2\\u09cd\\u09b2\\u09be\\u09b9, \\u09e7\\u09e6\\u09e6% \\u0985\\u09b0\\u09bf\\u099c\\u09bf\\u09a8\\u09be\\u09b2 \\u09aa\\u09cd\\u09b0\\u09cb\\u09a1\\u09be\\u0995\\u09cd\\u099f \\u09aa\\u09c7\\u09df\\u09c7\\u099b\\u09bf, \\u09aa\\u09cd\\u09af\\u09be\\u0995\\u09bf\\u0982 \\u0993 \\u09af\\u09a5\\u09c7\\u09b7\\u09cd\\u099f \\u09ad\\u09be\\u09b2\\u09cb \\u099b\\u09bf\\u09b2\\u0964 \\u0986\\u09aa\\u09a8\\u09be\\u09b0\\u09be \\u09a8\\u09bf\\u09b0\\u09cd\\u09ad\\u09df\\u09c7 \\u09a8\\u09bf\\u09a4\\u09c7 \\u09aa\\u09be\\u09b0\\u09c7\\u09a8\\ud83e\\udd70\\u0964\",\n          \"\\u09aa\\u09cd\\u09b0\\u09a1\\u09be\\u0995\\u09cd\\u099f \\u09a0\\u09bf\\u0995 \\u09a0\\u09be\\u0995 \\u09aa\\u09c7\\u09df\\u09c7\\u099b\\u09bf\\u0964 \\u0995\\u09bf\\u09a8\\u09cd\\u09a4\\u09c1 \\u0995\\u09cb\\u09a8\\u09cb \\u0995\\u09cd\\u09af\\u09be\\u09b6 \\u09ae\\u09c7\\u09ae\\u09cb \\u09a6\\u09c7\\u0987 \\u09a8\\u09be\\u0987\\u0964 \\u0995\\u09cb\\u09a8\\u09cb \\u0993\\u09df\\u09be\\u09b0\\u09c7\\u09a8\\u09cd\\u099f\\u09bf \\u0997\\u09cd\\u09af\\u09be\\u09b0\\u09be\\u09a8\\u09cd\\u099f\\u09bf \\u0995\\u09be\\u09b0\\u09cd\\u09a1 \\u09aa\\u09be\\u0987 \\u09a8\\u09be\\u0987\\u0964 \\u09b8\\u09ae\\u09b8\\u09cd\\u09af\\u09be \\u09b9\\u09b2\\u09c7 \\u0993\\u09df\\u09be\\u09b0\\u09c7\\u09a8\\u09cd\\u099f\\u09bf \\u0997\\u09cd\\u09af\\u09be\\u09b0\\u09be\\u09a8\\u09cd\\u099f\\u09bf \\u0995\\u09cd\\u09b2\\u09c7\\u0987\\u09ae \\u0995\\u09b0\\u09be\\u09b0 \\u0995\\u09cb\\u09a8\\u09cb \\u0985\\u09aa\\u09b6\\u09be\\u09a8 \\u09a8\\u09be\\u0987\\u0964\",\n          \"\\u098f\\u0995\\u09a6\\u09ae \\u09ac\\u09be\\u099c\\u09c7 \\u0997\\u09a8\\u09cd\\u09a7 \\u09aa\\u09c7\\u0995\\u09c7\\u099f \\u098f\\u09b0 \\u09ad\\u09bf\\u09a4\\u09b0\\u09c7 \\u099a\\u09be\\u09a6\\u09b0 \\u09ad\\u09bf\\u099c\\u09be \\u099b\\u09bf\\u09b2\"\n        ],\n        \"semantic_type\": \"\",\n        \"description\": \"\"\n      }\n    },\n    {\n      \"column\": \"Categore\",\n      \"properties\": {\n        \"dtype\": \"category\",\n        \"num_unique_values\": 176,\n        \"samples\": [\n          \"skin care\",\n          \"Keyboard & Mouse\",\n          \"Media & Music\"\n        ],\n        \"semantic_type\": \"\",\n        \"description\": \"\"\n      }\n    },\n    {\n      \"column\": \"Polarity\",\n      \"properties\": {\n        \"dtype\": \"category\",\n        \"num_unique_values\": 3,\n        \"samples\": [\n          \"Positive\",\n          \"Negative\",\n          \"Neutral\"\n        ],\n        \"semantic_type\": \"\",\n        \"description\": \"\"\n      }\n    }\n  ]\n}"
            }
          },
          "metadata": {},
          "execution_count": 41
        }
      ],
      "source": [
        "X_train = data_train.Text\n",
        "X_test = data_test.Text\n",
        "\n",
        "y_train = data_train.Polarity\n",
        "y_test = data_test.Polarity\n",
        "\n",
        "data = pd.concat([data_train, data_test], ignore_index=True)\n",
        "\n",
        "print(data['Polarity'].value_counts())\n",
        "data.head(10)"
      ]
    },
    {
      "cell_type": "code",
      "execution_count": null,
      "metadata": {
        "colab": {
          "base_uri": "https://localhost:8080/"
        },
        "id": "I83eMO-f5u4i",
        "outputId": "16bf0b10-2859-4d13-9599-2a2ee6a38d00"
      },
      "outputs": [
        {
          "output_type": "stream",
          "name": "stdout",
          "text": [
            "Sl           int64\n",
            "Text        object\n",
            "Categore    object\n",
            "Polarity    object\n",
            "dtype: object\n"
          ]
        }
      ],
      "source": [
        "print(data.dtypes)\n"
      ]
    },
    {
      "cell_type": "code",
      "execution_count": null,
      "metadata": {
        "colab": {
          "base_uri": "https://localhost:8080/"
        },
        "id": "kkPs5Bi65u95",
        "outputId": "4ef8b7ca-9f83-447b-844c-46530b027a90"
      },
      "outputs": [
        {
          "output_type": "stream",
          "name": "stdout",
          "text": [
            "Polarity\n",
            "Positive    4516\n",
            "Neutral     3106\n",
            "Negative    3015\n",
            "Name: count, dtype: int64\n",
            "Polarity\n",
            "Positive    4516\n",
            "Neutral     3106\n",
            "Negative    3015\n",
            "Name: count, dtype: int64\n"
          ]
        }
      ],
      "source": [
        "print(data_train.Polarity.value_counts())\n",
        "print(data_test.Polarity.value_counts())"
      ]
    },
    {
      "cell_type": "code",
      "execution_count": null,
      "metadata": {
        "id": "AXalK_6e5vC-"
      },
      "outputs": [],
      "source": [
        "def clean_text(data):\n",
        "    data = re.sub(r\"(#[\\d\\w\\.]+)\", '', data)\n",
        "    data = re.sub(r\"(@[\\d\\w\\.]+)\", '', data)\n",
        "    data = word_tokenize(data)\n",
        "\n",
        "    return data"
      ]
    },
    {
      "cell_type": "code",
      "execution_count": null,
      "metadata": {
        "colab": {
          "base_uri": "https://localhost:8080/"
        },
        "id": "UcjmTBjx-yc9",
        "outputId": "4699d699-e1cf-472e-d93a-dd5e7bfba411"
      },
      "outputs": [
        {
          "output_type": "stream",
          "name": "stderr",
          "text": [
            "[nltk_data] Downloading package punkt to /root/nltk_data...\n",
            "[nltk_data]   Package punkt is already up-to-date!\n"
          ]
        },
        {
          "output_type": "execute_result",
          "data": {
            "text/plain": [
              "True"
            ]
          },
          "metadata": {},
          "execution_count": 45
        }
      ],
      "source": [
        "import nltk\n",
        "nltk.download('punkt')"
      ]
    },
    {
      "cell_type": "code",
      "execution_count": null,
      "metadata": {
        "colab": {
          "base_uri": "https://localhost:8080/"
        },
        "id": "oKGpHQs0-yfr",
        "outputId": "f697269d-4316-4d41-a0ea-dceb35237dfc"
      },
      "outputs": [
        {
          "output_type": "stream",
          "name": "stdout",
          "text": [
            "এটা ভালো যেমন অডাড় করেছি তেমন পেয়েছি খুব ভালো সবাই কিনবেন\n"
          ]
        }
      ],
      "source": [
        "import re\n",
        "from nltk.tokenize import word_tokenize\n",
        "\n",
        "def remove_emojis(text):\n",
        "    # Emoji pattern: Matches any unicode emoji\n",
        "    emoji_pattern = re.compile(\"[\\U0001F600-\\U0001F64F]|[\\U0001F300-\\U0001F5FF]|[\\U0001F680-\\U0001F6FF]|[\\U0001F1E0-\\U0001F1FF]|[\\U00002702-\\U000027B0]|[\\U000024C2-\\U0001F251]\", flags=re.UNICODE)\n",
        "    english_pattern = re.compile('[a-zA-Z0-9]+', flags=re.I)\n",
        "    text = english_pattern.sub(r'', text)\n",
        "    text = emoji_pattern.sub(r'', text)\n",
        "    return text\n",
        "\n",
        "def clean_text(data):\n",
        "    # Check if data is None or NaN, and convert to an empty string\n",
        "    if data is None or pd.isnull(data):\n",
        "        data = ''\n",
        "\n",
        "    # Convert data to string if it's not already\n",
        "    if not isinstance(data, str):\n",
        "        data = str(data)\n",
        "\n",
        "    # Text cleaning operations\n",
        "    data = re.sub(r\"(#[\\d\\w\\.]+)\", '', data)\n",
        "    data = re.sub(r\"(@[\\d\\w\\.]+)\", '', data)\n",
        "    data = remove_emojis(data)\n",
        "    data_tokens = word_tokenize(data)\n",
        "    cleaned_data = ' '.join(data_tokens)\n",
        "\n",
        "    return cleaned_data\n",
        "def remove_punctuations(my_str):\n",
        "    # Define punctuation\n",
        "    punctuations = '''```\u0012\u0010\u0002\b`\u0007\b£|¢|\u0007Ñ+-*/=EROero৳০১২৩৪৫৬৭৮৯012–34567•89।!()-[]{};:'\"“\\’,<>./?@#$%^&*_~‘—॥”‰⚽️✌�￰৷￰'''\n",
        "\n",
        "    no_punct = \"\"\n",
        "    for char in my_str:\n",
        "        if char not in punctuations:\n",
        "            no_punct = no_punct + char\n",
        "\n",
        "    # Display the unpunctuated string\n",
        "    return no_punct\n",
        "\n",
        "def preprocessing(text):\n",
        "    # Preprocess text\n",
        "    text = clean_text(text)\n",
        "    text = remove_punctuations(text)\n",
        "    return text\n",
        "\n",
        "texts = [clean_text(text) for text in data.Text]\n",
        "texts_train = [clean_text(text) for text in X_train]\n",
        "texts_test = [clean_text(text) for text in X_test]\n",
        "\n",
        "print(texts_train[5])"
      ]
    },
    {
      "cell_type": "code",
      "execution_count": null,
      "metadata": {
        "colab": {
          "base_uri": "https://localhost:8080/"
        },
        "id": "6x_tyC4Q-yih",
        "outputId": "19aaccf5-8564-41f2-ba81-9b4870e5adaa"
      },
      "outputs": [
        {
          "output_type": "stream",
          "name": "stdout",
          "text": [
            "Number of unique words: 15255\n"
          ]
        }
      ],
      "source": [
        "tokenizer = Tokenizer()\n",
        "tokenizer.fit_on_texts(texts)\n",
        "\n",
        "sequence_train = tokenizer.texts_to_sequences(texts_train)\n",
        "sequence_test = tokenizer.texts_to_sequences(texts_test)\n",
        "\n",
        "\n",
        "\n",
        "index_of_words = tokenizer.word_index\n",
        "\n",
        "vocab_size = len(index_of_words) + 1\n",
        "\n",
        "print('Number of unique words: {}'.format(len(index_of_words)))"
      ]
    },
    {
      "cell_type": "code",
      "execution_count": null,
      "metadata": {
        "colab": {
          "base_uri": "https://localhost:8080/"
        },
        "id": "aCaBujMj41yi",
        "outputId": "a22ca374-abab-4748-e31a-3f18e01083da"
      },
      "outputs": [
        {
          "output_type": "stream",
          "name": "stdout",
          "text": [
            "Sentence :--> \n",
            "\n",
            "২৯ টাকার হিসাবে পেঁয়াজ সাইজে বেশ বড়। ভালো কোয়ালিটির ই পেয়েছি। ৩ বার অর্ডার করেছি। পরের দিনই ডেলিভারি পেয়েছি। ডেলিভারি পারসন খুবই হেল্পফুল ছিল।\n",
            "\n",
            "Sentence Tokenized and Converted into Sequence :--> \n",
            "\n",
            "[1746, 223, 324, 1579, 1391, 157, 1447, 1, 692, 122, 14, 176, 268, 26, 614, 1448, 2711, 17, 14, 17, 8030, 27, 2090, 69]\n",
            "\n"
          ]
        }
      ],
      "source": [
        "print(\"Sentence :--> \\n\")\n",
        "print(texts_train[2]+\"\\n\")\n",
        "print(\"Sentence Tokenized and Converted into Sequence :--> \\n\")\n",
        "print(str(sequence_train[2])+\"\\n\")"
      ]
    },
    {
      "cell_type": "code",
      "execution_count": null,
      "metadata": {
        "colab": {
          "base_uri": "https://localhost:8080/"
        },
        "id": "-ziycHlp-ylc",
        "outputId": "be3a4ca4-2823-4fa6-e052-3e430f7dd94c"
      },
      "outputs": [
        {
          "output_type": "stream",
          "name": "stdout",
          "text": [
            "Requirement already satisfied: Keras-Preprocessing in /usr/local/lib/python3.10/dist-packages (1.1.2)\n",
            "Requirement already satisfied: numpy>=1.9.1 in /usr/local/lib/python3.10/dist-packages (from Keras-Preprocessing) (1.25.2)\n",
            "Requirement already satisfied: six>=1.9.0 in /usr/local/lib/python3.10/dist-packages (from Keras-Preprocessing) (1.16.0)\n"
          ]
        }
      ],
      "source": [
        "!pip install Keras-Preprocessing"
      ]
    },
    {
      "cell_type": "code",
      "execution_count": null,
      "metadata": {
        "id": "TUQAiDMd-_f-"
      },
      "outputs": [],
      "source": [
        "from keras_preprocessing.sequence import pad_sequences"
      ]
    },
    {
      "cell_type": "code",
      "execution_count": null,
      "metadata": {
        "colab": {
          "base_uri": "https://localhost:8080/"
        },
        "id": "RpvBhUV--_iM",
        "outputId": "0f9146e0-790f-45db-9974-13fbedd1ed79"
      },
      "outputs": [
        {
          "output_type": "execute_result",
          "data": {
            "text/plain": [
              "array([[   0,    0,    0, ...,  597,  238,  193],\n",
              "       [   0,    0,    0, ...,   10, 1953, 2710],\n",
              "       [   0,    0,    0, ...,   27, 2090,   69],\n",
              "       ...,\n",
              "       [   0,    0,    0, ...,  235, 1087, 1386],\n",
              "       [   0,    0,    0, ..., 1425,  490,   39],\n",
              "       [   0,    0,    0, ...,  748,  207,  232]], dtype=int32)"
            ]
          },
          "metadata": {},
          "execution_count": 51
        }
      ],
      "source": [
        "X_train_pad = pad_sequences(sequence_train, maxlen = max_seq_len )\n",
        "X_test_pad = pad_sequences(sequence_test, maxlen = max_seq_len )\n",
        "\n",
        "X_train_pad"
      ]
    },
    {
      "cell_type": "code",
      "execution_count": null,
      "metadata": {
        "colab": {
          "base_uri": "https://localhost:8080/"
        },
        "id": "Zzl4IqmNlB6H",
        "outputId": "d2a7a5da-015f-460c-af2f-68be63b67369"
      },
      "outputs": [
        {
          "output_type": "stream",
          "name": "stdout",
          "text": [
            "Index(['Sl', 'Text', 'Categore', 'Polarity'], dtype='object')\n"
          ]
        }
      ],
      "source": [
        "print(data_train.columns)\n"
      ]
    },
    {
      "cell_type": "code",
      "execution_count": null,
      "metadata": {
        "colab": {
          "base_uri": "https://localhost:8080/"
        },
        "id": "h4tdmfic-_kt",
        "outputId": "233165de-6a19-4ec2-ccb9-f7e62f530fb1"
      },
      "outputs": [
        {
          "output_type": "execute_result",
          "data": {
            "text/plain": [
              "array([[1., 0., 0.],\n",
              "       [1., 0., 0.],\n",
              "       [1., 0., 0.],\n",
              "       ...,\n",
              "       [0., 0., 1.],\n",
              "       [0., 0., 1.],\n",
              "       [0., 0., 1.]], dtype=float32)"
            ]
          },
          "metadata": {},
          "execution_count": 53
        }
      ],
      "source": [
        "encoding = {\n",
        "    'Positive': 0,\n",
        "    'Negative': 1,\n",
        "    'Neutral': 2\n",
        "}\n",
        "\n",
        "y_train = [encoding[x] for x in data_train.Polarity]\n",
        "y_test = [encoding[x] for x in data_test.Polarity]\n",
        "\n",
        "y_train = to_categorical(y_train)\n",
        "y_test = to_categorical(y_test)\n",
        "\n",
        "y_train"
      ]
    },
    {
      "cell_type": "code",
      "execution_count": null,
      "metadata": {
        "colab": {
          "base_uri": "https://localhost:8080/"
        },
        "id": "gYSNJLGx-_m9",
        "outputId": "1b843249-fd08-413a-e57c-6fadaaff81fa"
      },
      "outputs": [
        {
          "output_type": "stream",
          "name": "stdout",
          "text": [
            "Checking if file exists: glove.twitter.27B.200d.txt\n"
          ]
        }
      ],
      "source": [
        "import urllib.request\n",
        "import zipfile\n",
        "import os\n",
        "\n",
        "GLOVE_DIM = 200\n",
        "fname = 'glove.twitter.27B.' + str(GLOVE_DIM) + 'd.txt'\n",
        "\n",
        "# Debugging output\n",
        "print('Checking if file exists:', fname)\n",
        "\n",
        "# Check if the file exists, if not, download and extract it\n",
        "if not os.path.isfile(fname):\n",
        "    print('Downloading word vectors...')\n",
        "    try:\n",
        "        # Try downloading from a different URL\n",
        "        urllib.request.urlretrieve('http://downloads.cs.stanford.edu/nlp/data/glove.twitter.27B.zip', 'glove.twitter.27B.zip')\n",
        "        print('Unzipping...')\n",
        "        with zipfile.ZipFile('glove.twitter.27B.zip', 'r') as zip_ref:\n",
        "            zip_ref.extractall('')\n",
        "        print('Done.')\n",
        "\n",
        "        # Remove the downloaded zip file\n",
        "        os.remove('glove.twitter.27B.zip')\n",
        "\n",
        "    except Exception as e:\n",
        "        print('Error occurred while downloading:', e)\n",
        "\n"
      ]
    },
    {
      "cell_type": "code",
      "execution_count": null,
      "metadata": {
        "id": "JvJCl7b--_pc"
      },
      "outputs": [],
      "source": [
        "glove_file = 'glove.twitter.27B.' + str(GLOVE_DIM) + 'd.txt'\n",
        "emb_dict = {}\n",
        "glove = open(glove_file)\n",
        "for line in glove:\n",
        "    values = line.split()\n",
        "    word = values[0]\n",
        "    vector = np.asarray(values[1:], dtype='float32')\n",
        "    emb_dict[word] = vector\n",
        "glove.close()\n",
        "\n",
        "NB_WORDS = vocab_size\n",
        "MAX_LEN = max_seq_len\n",
        "\n",
        "emb_matrix = np.zeros((NB_WORDS, GLOVE_DIM))\n",
        "for w, i in tokenizer.word_index.items():\n",
        "    if i < NB_WORDS:\n",
        "        vect = emb_dict.get(w)\n",
        "        if vect is not None:\n",
        "          emb_matrix[i] = vect\n",
        "    else:\n",
        "        break"
      ]
    },
    {
      "cell_type": "code",
      "execution_count": null,
      "metadata": {
        "id": "19XyxwWB-_sE"
      },
      "outputs": [],
      "source": [
        "embedd_layer = Embedding(vocab_size,\n",
        "                         GLOVE_DIM,\n",
        "                         input_length = max_seq_len,\n",
        "                         weights = [emb_matrix],\n",
        "                         trainable=False)\n",
        "\n",
        "lstm_size = 128"
      ]
    },
    {
      "cell_type": "code",
      "execution_count": null,
      "metadata": {
        "id": "cotY5ce8-_uM",
        "colab": {
          "base_uri": "https://localhost:8080/"
        },
        "outputId": "cd776c00-601c-4c84-9d94-3fccdc4b8382"
      },
      "outputs": [
        {
          "output_type": "stream",
          "name": "stdout",
          "text": [
            "Model: \"sequential\"\n",
            "_________________________________________________________________\n",
            " Layer (type)                Output Shape              Param #   \n",
            "=================================================================\n",
            " embedding (Embedding)       (None, 1000, 200)         3051200   \n",
            "                                                                 \n",
            " spatial_dropout1d (Spatial  (None, 1000, 200)         0         \n",
            " Dropout1D)                                                      \n",
            "                                                                 \n",
            " conv1d (Conv1D)             (None, 1000, 64)          38464     \n",
            "                                                                 \n",
            " max_pooling1d (MaxPooling1  (None, 500, 64)           0         \n",
            " D)                                                              \n",
            "                                                                 \n",
            " conv1d_1 (Conv1D)           (None, 500, 256)          49408     \n",
            "                                                                 \n",
            " max_pooling1d_1 (MaxPoolin  (None, 250, 256)          0         \n",
            " g1D)                                                            \n",
            "                                                                 \n",
            " dropout (Dropout)           (None, 250, 256)          0         \n",
            "                                                                 \n",
            " bidirectional (Bidirection  (None, 250, 256)          394240    \n",
            " al)                                                             \n",
            "                                                                 \n",
            " dropout_1 (Dropout)         (None, 250, 256)          0         \n",
            "                                                                 \n",
            " bidirectional_1 (Bidirecti  (None, 256)               394240    \n",
            " onal)                                                           \n",
            "                                                                 \n",
            " dropout_2 (Dropout)         (None, 256)               0         \n",
            "                                                                 \n",
            " dense (Dense)               (None, 3)                 771       \n",
            "                                                                 \n",
            "=================================================================\n",
            "Total params: 3928323 (14.99 MB)\n",
            "Trainable params: 877123 (3.35 MB)\n",
            "Non-trainable params: 3051200 (11.64 MB)\n",
            "_________________________________________________________________\n"
          ]
        }
      ],
      "source": [
        "model = Sequential()\n",
        "model.add(embedd_layer)\n",
        "\n",
        "model.add(SpatialDropout1D(0.2))\n",
        "\n",
        "model.add(Conv1D(filters=64, kernel_size=3, padding='same', activation='relu'))\n",
        "model.add(MaxPooling1D(pool_size=2))\n",
        "\n",
        "model.add(Conv1D(filters=256, kernel_size=3, padding='same', activation='relu'))\n",
        "model.add(MaxPooling1D(pool_size=2))\n",
        "\n",
        "model.add(Dropout(0.5))\n",
        "\n",
        "model.add(Bidirectional(LSTM(lstm_size, return_sequences = True)))\n",
        "model.add(Dropout(0.5))\n",
        "\n",
        "model.add(Bidirectional(LSTM(lstm_size)))\n",
        "model.add(Dropout(0.5))\n",
        "\n",
        "model.add(Dense(num_classes, activation='softmax'))\n",
        "\n",
        "model.compile(loss = 'categorical_crossentropy', optimizer = 'adam', metrics = ['accuracy'])\n",
        "model.summary()"
      ]
    },
    {
      "cell_type": "code",
      "execution_count": null,
      "metadata": {
        "id": "CHSKrP2i-_wm",
        "colab": {
          "base_uri": "https://localhost:8080/",
          "height": 1000
        },
        "outputId": "26bfc730-a0c5-4ad9-8e31-ae2aff1d97fd"
      },
      "outputs": [
        {
          "output_type": "execute_result",
          "data": {
            "image/png": "[encoded data removed]",
            "text/plain": [
              "<IPython.core.display.Image object>"
            ]
          },
          "metadata": {},
          "execution_count": 57
        }
      ],
      "source": [
        "from tensorflow.keras.utils import plot_model\n",
        "plot_model(model, to_file='model_plot.png', show_shapes=True, show_layer_names=True)"
      ]
    },
    {
      "cell_type": "code",
      "execution_count": null,
      "metadata": {
        "id": "E1urZBVO-_zR",
        "colab": {
          "base_uri": "https://localhost:8080/"
        },
        "outputId": "ebf7f292-897c-4e44-8f19-94542db5286e"
      },
      "outputs": [
        {
          "output_type": "stream",
          "name": "stdout",
          "text": [
            "(10637, 1000)\n",
            "(10637, 3)\n",
            "(10637, 1000)\n",
            "(10637, 3)\n"
          ]
        }
      ],
      "source": [
        "from time import time\n",
        "t1 = time()\n",
        "\n",
        "batch_size = 256\n",
        "epochs = 70\n",
        "\n",
        "print(X_test_pad.shape)\n",
        "print(y_test.shape)\n",
        "\n",
        "print(X_train_pad.shape)\n",
        "print(y_train.shape)"
      ]
    },
    {
      "cell_type": "code",
      "execution_count": null,
      "metadata": {
        "id": "nRof4emc-_1H",
        "colab": {
          "base_uri": "https://localhost:8080/"
        },
        "outputId": "03d17fc9-b39f-406f-98a7-9e6393f4ae5a"
      },
      "outputs": [
        {
          "output_type": "stream",
          "name": "stdout",
          "text": [
            "Epoch 1/70\n",
            "42/42 [==============================] - 31s 341ms/step - loss: 1.0110 - accuracy: 0.4864 - val_loss: 0.9119 - val_accuracy: 0.5593\n",
            "Epoch 2/70\n",
            "42/42 [==============================] - 13s 305ms/step - loss: 0.8840 - accuracy: 0.5915 - val_loss: 0.8058 - val_accuracy: 0.6308\n",
            "Epoch 3/70\n",
            "42/42 [==============================] - 13s 305ms/step - loss: 0.8128 - accuracy: 0.6370 - val_loss: 0.7810 - val_accuracy: 0.6493\n",
            "Epoch 4/70\n",
            "42/42 [==============================] - 13s 306ms/step - loss: 0.7851 - accuracy: 0.6509 - val_loss: 0.7275 - val_accuracy: 0.6837\n",
            "Epoch 5/70\n",
            "42/42 [==============================] - 13s 306ms/step - loss: 0.7639 - accuracy: 0.6578 - val_loss: 0.6952 - val_accuracy: 0.6960\n",
            "Epoch 6/70\n",
            "42/42 [==============================] - 10s 248ms/step - loss: 0.7311 - accuracy: 0.6706 - val_loss: 0.6804 - val_accuracy: 0.7001\n",
            "Epoch 7/70\n",
            "42/42 [==============================] - 11s 255ms/step - loss: 0.7166 - accuracy: 0.6820 - val_loss: 0.6370 - val_accuracy: 0.7187\n",
            "Epoch 8/70\n",
            "42/42 [==============================] - 11s 260ms/step - loss: 0.6838 - accuracy: 0.6947 - val_loss: 0.6088 - val_accuracy: 0.7323\n",
            "Epoch 9/70\n",
            "42/42 [==============================] - 13s 314ms/step - loss: 0.6736 - accuracy: 0.7029 - val_loss: 0.5944 - val_accuracy: 0.7406\n",
            "Epoch 10/70\n",
            "42/42 [==============================] - 11s 268ms/step - loss: 0.6612 - accuracy: 0.7039 - val_loss: 0.6007 - val_accuracy: 0.7365\n",
            "Epoch 11/70\n",
            "42/42 [==============================] - 13s 323ms/step - loss: 0.6429 - accuracy: 0.7157 - val_loss: 0.5521 - val_accuracy: 0.7590\n",
            "Epoch 12/70\n",
            "42/42 [==============================] - 13s 318ms/step - loss: 0.6271 - accuracy: 0.7187 - val_loss: 0.5528 - val_accuracy: 0.7547\n",
            "Epoch 13/70\n",
            "42/42 [==============================] - 13s 317ms/step - loss: 0.6204 - accuracy: 0.7247 - val_loss: 0.5309 - val_accuracy: 0.7691\n",
            "Epoch 14/70\n",
            "42/42 [==============================] - 11s 258ms/step - loss: 0.5991 - accuracy: 0.7380 - val_loss: 0.5116 - val_accuracy: 0.7718\n",
            "Epoch 15/70\n",
            "42/42 [==============================] - 13s 317ms/step - loss: 0.5948 - accuracy: 0.7328 - val_loss: 0.5128 - val_accuracy: 0.7689\n",
            "Epoch 16/70\n",
            "42/42 [==============================] - 13s 319ms/step - loss: 0.5933 - accuracy: 0.7333 - val_loss: 0.5079 - val_accuracy: 0.7728\n",
            "Epoch 17/70\n",
            "42/42 [==============================] - 13s 316ms/step - loss: 0.5745 - accuracy: 0.7469 - val_loss: 0.4874 - val_accuracy: 0.7859\n",
            "Epoch 18/70\n",
            "42/42 [==============================] - 13s 319ms/step - loss: 0.5637 - accuracy: 0.7501 - val_loss: 0.4817 - val_accuracy: 0.7850\n",
            "Epoch 19/70\n",
            "42/42 [==============================] - 11s 262ms/step - loss: 0.5458 - accuracy: 0.7565 - val_loss: 0.4566 - val_accuracy: 0.7951\n",
            "Epoch 20/70\n",
            "42/42 [==============================] - 13s 319ms/step - loss: 0.5391 - accuracy: 0.7597 - val_loss: 0.4539 - val_accuracy: 0.7936\n",
            "Epoch 21/70\n",
            "42/42 [==============================] - 13s 318ms/step - loss: 0.5352 - accuracy: 0.7529 - val_loss: 0.4541 - val_accuracy: 0.7978\n",
            "Epoch 22/70\n",
            "42/42 [==============================] - 11s 260ms/step - loss: 0.5219 - accuracy: 0.7628 - val_loss: 0.4435 - val_accuracy: 0.7995\n",
            "Epoch 23/70\n",
            "42/42 [==============================] - 13s 320ms/step - loss: 0.5156 - accuracy: 0.7668 - val_loss: 0.4254 - val_accuracy: 0.8069\n",
            "Epoch 24/70\n",
            "42/42 [==============================] - 13s 318ms/step - loss: 0.5056 - accuracy: 0.7680 - val_loss: 0.4239 - val_accuracy: 0.8003\n",
            "Epoch 25/70\n",
            "42/42 [==============================] - 11s 263ms/step - loss: 0.5036 - accuracy: 0.7711 - val_loss: 0.4182 - val_accuracy: 0.8057\n",
            "Epoch 26/70\n",
            "42/42 [==============================] - 13s 319ms/step - loss: 0.5013 - accuracy: 0.7706 - val_loss: 0.4230 - val_accuracy: 0.8077\n",
            "Epoch 27/70\n",
            "42/42 [==============================] - 13s 316ms/step - loss: 0.4904 - accuracy: 0.7743 - val_loss: 0.3896 - val_accuracy: 0.8194\n",
            "Epoch 28/70\n",
            "42/42 [==============================] - 13s 319ms/step - loss: 0.4766 - accuracy: 0.7783 - val_loss: 0.3874 - val_accuracy: 0.8217\n",
            "Epoch 29/70\n",
            "42/42 [==============================] - 13s 317ms/step - loss: 0.4763 - accuracy: 0.7854 - val_loss: 0.3916 - val_accuracy: 0.8185\n",
            "Epoch 30/70\n",
            "42/42 [==============================] - 13s 315ms/step - loss: 0.4678 - accuracy: 0.7834 - val_loss: 0.3772 - val_accuracy: 0.8270\n",
            "Epoch 31/70\n",
            "42/42 [==============================] - 11s 263ms/step - loss: 0.4602 - accuracy: 0.7888 - val_loss: 0.3639 - val_accuracy: 0.8307\n",
            "Epoch 32/70\n",
            "42/42 [==============================] - 13s 317ms/step - loss: 0.4644 - accuracy: 0.7880 - val_loss: 0.3687 - val_accuracy: 0.8310\n",
            "Epoch 33/70\n",
            "42/42 [==============================] - 11s 265ms/step - loss: 0.4588 - accuracy: 0.7906 - val_loss: 0.3708 - val_accuracy: 0.8282\n",
            "Epoch 34/70\n",
            "42/42 [==============================] - 13s 319ms/step - loss: 0.4539 - accuracy: 0.7928 - val_loss: 0.3678 - val_accuracy: 0.8337\n",
            "Epoch 35/70\n",
            "42/42 [==============================] - 11s 260ms/step - loss: 0.4424 - accuracy: 0.7964 - val_loss: 0.3453 - val_accuracy: 0.8400\n",
            "Epoch 36/70\n",
            "42/42 [==============================] - 13s 319ms/step - loss: 0.4434 - accuracy: 0.7994 - val_loss: 0.3404 - val_accuracy: 0.8392\n",
            "Epoch 37/70\n",
            "42/42 [==============================] - 13s 317ms/step - loss: 0.4319 - accuracy: 0.8044 - val_loss: 0.3387 - val_accuracy: 0.8380\n",
            "Epoch 38/70\n",
            "42/42 [==============================] - 13s 317ms/step - loss: 0.4328 - accuracy: 0.8010 - val_loss: 0.3382 - val_accuracy: 0.8417\n",
            "Epoch 39/70\n",
            "42/42 [==============================] - 13s 319ms/step - loss: 0.4236 - accuracy: 0.8045 - val_loss: 0.3316 - val_accuracy: 0.8432\n",
            "Epoch 40/70\n",
            "42/42 [==============================] - 11s 261ms/step - loss: 0.4174 - accuracy: 0.8054 - val_loss: 0.3361 - val_accuracy: 0.8371\n",
            "Epoch 41/70\n",
            "42/42 [==============================] - 11s 266ms/step - loss: 0.4286 - accuracy: 0.7995 - val_loss: 0.3361 - val_accuracy: 0.8459\n",
            "Epoch 42/70\n",
            "42/42 [==============================] - 13s 321ms/step - loss: 0.4128 - accuracy: 0.8125 - val_loss: 0.3166 - val_accuracy: 0.8474\n",
            "Epoch 43/70\n",
            "42/42 [==============================] - 13s 315ms/step - loss: 0.4185 - accuracy: 0.8093 - val_loss: 0.3189 - val_accuracy: 0.8491\n",
            "Epoch 44/70\n",
            "42/42 [==============================] - 13s 319ms/step - loss: 0.4046 - accuracy: 0.8110 - val_loss: 0.3092 - val_accuracy: 0.8536\n",
            "Epoch 45/70\n",
            "42/42 [==============================] - 11s 263ms/step - loss: 0.3995 - accuracy: 0.8157 - val_loss: 0.3074 - val_accuracy: 0.8503\n",
            "Epoch 46/70\n",
            "42/42 [==============================] - 13s 319ms/step - loss: 0.3964 - accuracy: 0.8158 - val_loss: 0.3104 - val_accuracy: 0.8510\n",
            "Epoch 47/70\n",
            "42/42 [==============================] - 13s 320ms/step - loss: 0.3982 - accuracy: 0.8140 - val_loss: 0.3027 - val_accuracy: 0.8561\n",
            "Epoch 48/70\n",
            "42/42 [==============================] - 13s 313ms/step - loss: 0.3904 - accuracy: 0.8156 - val_loss: 0.2985 - val_accuracy: 0.8553\n",
            "Epoch 49/70\n",
            "42/42 [==============================] - 13s 317ms/step - loss: 0.3998 - accuracy: 0.8107 - val_loss: 0.3092 - val_accuracy: 0.8511\n",
            "Epoch 50/70\n",
            "42/42 [==============================] - 13s 315ms/step - loss: 0.3848 - accuracy: 0.8184 - val_loss: 0.3009 - val_accuracy: 0.8534\n",
            "Epoch 51/70\n",
            "42/42 [==============================] - 11s 264ms/step - loss: 0.3848 - accuracy: 0.8236 - val_loss: 0.2974 - val_accuracy: 0.8609\n",
            "Epoch 52/70\n",
            "42/42 [==============================] - 13s 320ms/step - loss: 0.4005 - accuracy: 0.8133 - val_loss: 0.2988 - val_accuracy: 0.8572\n",
            "Epoch 53/70\n",
            "42/42 [==============================] - 11s 260ms/step - loss: 0.3882 - accuracy: 0.8173 - val_loss: 0.2900 - val_accuracy: 0.8603\n",
            "Epoch 54/70\n",
            "42/42 [==============================] - 13s 317ms/step - loss: 0.3714 - accuracy: 0.8231 - val_loss: 0.2833 - val_accuracy: 0.8626\n",
            "Epoch 55/70\n",
            "42/42 [==============================] - 13s 316ms/step - loss: 0.3744 - accuracy: 0.8254 - val_loss: 0.2879 - val_accuracy: 0.8631\n",
            "Epoch 56/70\n",
            "42/42 [==============================] - 13s 316ms/step - loss: 0.3786 - accuracy: 0.8214 - val_loss: 0.2828 - val_accuracy: 0.8616\n",
            "Epoch 57/70\n",
            "42/42 [==============================] - 11s 264ms/step - loss: 0.3689 - accuracy: 0.8241 - val_loss: 0.2795 - val_accuracy: 0.8630\n",
            "Epoch 58/70\n",
            "42/42 [==============================] - 13s 318ms/step - loss: 0.3717 - accuracy: 0.8254 - val_loss: 0.2784 - val_accuracy: 0.8652\n",
            "Epoch 59/70\n",
            "42/42 [==============================] - 13s 316ms/step - loss: 0.3708 - accuracy: 0.8239 - val_loss: 0.2854 - val_accuracy: 0.8615\n",
            "Epoch 60/70\n",
            "42/42 [==============================] - 13s 318ms/step - loss: 0.3567 - accuracy: 0.8297 - val_loss: 0.2702 - val_accuracy: 0.8667\n",
            "Epoch 61/70\n",
            "42/42 [==============================] - 13s 313ms/step - loss: 0.3555 - accuracy: 0.8315 - val_loss: 0.2695 - val_accuracy: 0.8670\n",
            "Epoch 62/70\n",
            "42/42 [==============================] - 11s 264ms/step - loss: 0.3514 - accuracy: 0.8334 - val_loss: 0.2695 - val_accuracy: 0.8680\n",
            "Epoch 63/70\n",
            "42/42 [==============================] - 11s 262ms/step - loss: 0.3480 - accuracy: 0.8347 - val_loss: 0.2715 - val_accuracy: 0.8667\n",
            "Epoch 64/70\n",
            "42/42 [==============================] - 13s 317ms/step - loss: 0.3532 - accuracy: 0.8266 - val_loss: 0.2704 - val_accuracy: 0.8667\n",
            "Epoch 65/70\n",
            "42/42 [==============================] - 11s 263ms/step - loss: 0.3542 - accuracy: 0.8341 - val_loss: 0.2758 - val_accuracy: 0.8656\n",
            "Epoch 66/70\n",
            "42/42 [==============================] - 13s 315ms/step - loss: 0.3461 - accuracy: 0.8312 - val_loss: 0.2575 - val_accuracy: 0.8704\n",
            "Epoch 67/70\n",
            "42/42 [==============================] - 11s 263ms/step - loss: 0.3445 - accuracy: 0.8342 - val_loss: 0.2605 - val_accuracy: 0.8675\n",
            "Epoch 68/70\n",
            "42/42 [==============================] - 13s 317ms/step - loss: 0.3490 - accuracy: 0.8336 - val_loss: 0.2573 - val_accuracy: 0.8717\n",
            "Epoch 69/70\n",
            "42/42 [==============================] - 11s 257ms/step - loss: 0.3392 - accuracy: 0.8376 - val_loss: 0.2538 - val_accuracy: 0.8707\n",
            "Epoch 70/70\n",
            "42/42 [==============================] - 13s 316ms/step - loss: 0.3445 - accuracy: 0.8395 - val_loss: 0.2541 - val_accuracy: 0.8718\n"
          ]
        }
      ],
      "source": [
        "hist = model.fit(X_train_pad, y_train,\n",
        "                 batch_size=batch_size,\n",
        "                 epochs=epochs,\n",
        "                 validation_data=(X_test_pad,y_test))"
      ]
    },
    {
      "cell_type": "code",
      "execution_count": null,
      "metadata": {
        "id": "Xs4mYm1X_i-E",
        "colab": {
          "base_uri": "https://localhost:8080/"
        },
        "outputId": "d00dd1e1-454b-4256-e3a6-c8fa12d19845"
      },
      "outputs": [
        {
          "output_type": "stream",
          "name": "stdout",
          "text": [
            "931.23\n"
          ]
        }
      ],
      "source": [
        "t2 = time()\n",
        "t_delta = round(t2-t1,2)\n",
        "print(t_delta)"
      ]
    },
    {
      "cell_type": "code",
      "execution_count": null,
      "metadata": {
        "id": "reXQ5ox6_jAx",
        "colab": {
          "base_uri": "https://localhost:8080/",
          "height": 927
        },
        "outputId": "c26bb28d-d8fe-4aad-a46f-99e03d566c49"
      },
      "outputs": [
        {
          "output_type": "display_data",
          "data": {
            "text/plain": [
              "<Figure size 640x480 with 1 Axes>"
            ],
            "image/png": "[encoded data removed]"
          },
          "metadata": {}
        },
        {
          "output_type": "display_data",
          "data": {
            "text/plain": [
              "<Figure size 640x480 with 1 Axes>"
            ],
            "image/png": "[encoded data removed]"
          },
          "metadata": {}
        }
      ],
      "source": [
        "# Accuracy\n",
        "plt.plot(hist.history['accuracy'])\n",
        "plt.plot(hist.history['val_accuracy'])\n",
        "plt.title('model accuracy')\n",
        "plt.ylabel('accuracy')\n",
        "plt.xlabel('epoch')\n",
        "plt.legend(['train', 'validation'], loc='upper left')\n",
        "plt.show()\n",
        "\n",
        "# Loss\n",
        "plt.plot(hist.history['loss'])\n",
        "plt.plot(hist.history['val_loss'])\n",
        "plt.title('model loss')\n",
        "plt.ylabel('loss')\n",
        "plt.xlabel('epoch')\n",
        "plt.legend(['train', 'validation'], loc='upper left')\n",
        "plt.show()"
      ]
    },
    {
      "cell_type": "code",
      "execution_count": null,
      "metadata": {
        "id": "bJ2F6tEL_jDg"
      },
      "outputs": [],
      "source": [
        "import numpy as np\n",
        "from sklearn.metrics import precision_recall_fscore_support"
      ]
    },
    {
      "cell_type": "code",
      "execution_count": null,
      "metadata": {
        "id": "68U0NZCm_jGA",
        "colab": {
          "base_uri": "https://localhost:8080/"
        },
        "outputId": "ba185921-effd-4c7e-fe7d-529cdd19a29d"
      },
      "outputs": [
        {
          "output_type": "stream",
          "name": "stdout",
          "text": [
            "333/333 [==============================] - 8s 18ms/step\n"
          ]
        }
      ],
      "source": [
        "predictions = model.predict(X_test_pad)\n",
        "predictions = np.argmax(predictions, axis=1)\n",
        "predictions = [class_names[pred] for pred in predictions]"
      ]
    },
    {
      "cell_type": "code",
      "execution_count": null,
      "metadata": {
        "id": "9cozESyw_jJC"
      },
      "outputs": [],
      "source": [
        "import numpy as np\n",
        "from sklearn.metrics import precision_recall_fscore_support"
      ]
    },
    {
      "cell_type": "code",
      "execution_count": null,
      "metadata": {
        "id": "7UnbmQQ7_r12",
        "colab": {
          "base_uri": "https://localhost:8080/"
        },
        "outputId": "330fd471-761b-4128-d88c-5c77157a004f"
      },
      "outputs": [
        {
          "output_type": "stream",
          "name": "stdout",
          "text": [
            "(0.8717683557394003, 0.8717683557394003, 0.8717683557394003, None)\n",
            "(0.8745597335841987, 0.8741435730112682, 0.8700815488848606, None)\n",
            "(0.8838114218544497, 0.8717683557394003, 0.873903814708384, None)\n"
          ]
        }
      ],
      "source": [
        "print(precision_recall_fscore_support(data_test.Polarity, predictions, average='micro'))\n",
        "print(precision_recall_fscore_support(data_test.Polarity, predictions, average='macro'))\n",
        "print(precision_recall_fscore_support(data_test.Polarity, predictions, average='weighted'))"
      ]
    },
    {
      "cell_type": "code",
      "execution_count": null,
      "metadata": {
        "id": "gcTdTB9H_r4Q",
        "colab": {
          "base_uri": "https://localhost:8080/",
          "height": 826
        },
        "outputId": "96aba932-b4bf-4ea1-eb83-27c3b8fdb8c7"
      },
      "outputs": [
        {
          "output_type": "stream",
          "name": "stdout",
          "text": [
            "\n",
            "F1 Score: 87.18\n"
          ]
        },
        {
          "output_type": "display_data",
          "data": {
            "text/plain": [
              "<Figure size 1250x750 with 2 Axes>"
            ],
            "image/png": "[encoded data removed]"
          },
          "metadata": {}
        },
        {
          "output_type": "stream",
          "name": "stdout",
          "text": [
            "Message: প্রোডাক্টটি খুবই সুন্দর হয়েছে সেলসম্যান অনেক ভালো ছিল\n",
            "Predicted: Positive\n"
          ]
        }
      ],
      "source": [
        "\n",
        "def plot_confusion_matrix(y_true, y_pred, classes,\n",
        "                          normalize=False,\n",
        "                          title=None,\n",
        "                          cmap=plt.cm.Blues):\n",
        "    if not title:\n",
        "        if normalize:\n",
        "            title = 'Normalized confusion matrix'\n",
        "        else:\n",
        "            title = 'Confusion matrix, without normalization'\n",
        "\n",
        "    cm = confusion_matrix(y_true, y_pred)\n",
        "\n",
        "    if normalize:\n",
        "        cm = cm.astype('float') / cm.sum(axis=1)[:, np.newaxis]\n",
        "\n",
        "    fig, ax = plt.subplots()\n",
        "\n",
        "    fig.set_size_inches(12.5, 7.5)\n",
        "    im = ax.imshow(cm, interpolation='nearest', cmap=cmap)\n",
        "    ax.figure.colorbar(im, ax=ax)\n",
        "    ax.grid(False)\n",
        "\n",
        "    ax.set(xticks=np.arange(cm.shape[1]),\n",
        "           yticks=np.arange(cm.shape[0]),\n",
        "           xticklabels=classes, yticklabels=classes,\n",
        "           title=title,\n",
        "           ylabel='True label',\n",
        "           xlabel='Predicted label')\n",
        "\n",
        "    plt.setp(ax.get_xticklabels(), rotation=45, ha=\"right\",\n",
        "             rotation_mode=\"anchor\")\n",
        "\n",
        "    fmt = '.2f' if normalize else 'd'\n",
        "    thresh = cm.max() / 2.\n",
        "    for i in range(cm.shape[0]):\n",
        "        for j in range(cm.shape[1]):\n",
        "            ax.text(j, i, format(cm[i, j], fmt),\n",
        "                    ha=\"center\", va=\"center\",\n",
        "                    color=\"white\" if cm[i, j] > thresh else \"black\")\n",
        "    fig.tight_layout()\n",
        "    return ax\n",
        "\n",
        "print(\"\\nF1 Score: {:.2f}\".format(f1_score(data_test.Polarity, predictions, average='micro') * 100))\n",
        "\n",
        "plot_confusion_matrix(data_test.Polarity, predictions, classes=class_names, normalize=True, title='Normalized confusion matrix')\n",
        "plt.show()\n",
        "\n",
        "print('Message: {}\\nPredicted: {}'.format(X_test[6], predictions[6]))"
      ]
    },
    {
      "cell_type": "code",
      "execution_count": null,
      "metadata": {
        "id": "Cc21hfbo_r68",
        "colab": {
          "base_uri": "https://localhost:8080/"
        },
        "outputId": "2576e216-17db-4077-c74f-a8fb9d8a967f"
      },
      "outputs": [
        {
          "output_type": "stream",
          "name": "stdout",
          "text": [
            "\n",
            "Accuracy: 0.87\n",
            "\n",
            "Micro Precision: 0.87\n",
            "Micro Recall: 0.87\n",
            "Micro F1-score: 0.87\n",
            "\n",
            "Macro Precision: 0.87\n",
            "Macro Recall: 0.87\n",
            "Macro F1-score: 0.87\n",
            "\n",
            "Weighted Precision: 0.88\n",
            "Weighted Recall: 0.87\n",
            "Weighted F1-score: 0.87\n",
            "\n",
            "Classification Report\n",
            "\n",
            "              precision    recall  f1-score   support\n",
            "\n",
            "    Positive       0.75      0.92      0.83      3015\n",
            "    Negative       0.94      0.84      0.89      3106\n",
            "     Neutral       0.94      0.86      0.90      4516\n",
            "\n",
            "    accuracy                           0.87     10637\n",
            "   macro avg       0.87      0.87      0.87     10637\n",
            "weighted avg       0.88      0.87      0.87     10637\n",
            "\n"
          ]
        }
      ],
      "source": [
        "from sklearn.metrics import accuracy_score, precision_score, recall_score, f1_score\n",
        "print('\\nAccuracy: {:.2f}\\n'.format(accuracy_score(data_test.Polarity, predictions)))\n",
        "\n",
        "print('Micro Precision: {:.2f}'.format(precision_score(data_test.Polarity, predictions, average='micro')))\n",
        "print('Micro Recall: {:.2f}'.format(recall_score(data_test.Polarity, predictions, average='micro')))\n",
        "print('Micro F1-score: {:.2f}\\n'.format(f1_score(data_test.Polarity, predictions, average='micro')))\n",
        "\n",
        "print('Macro Precision: {:.2f}'.format(precision_score(data_test.Polarity, predictions, average='macro')))\n",
        "print('Macro Recall: {:.2f}'.format(recall_score(data_test.Polarity, predictions, average='macro')))\n",
        "print('Macro F1-score: {:.2f}\\n'.format(f1_score(data_test.Polarity, predictions, average='macro')))\n",
        "\n",
        "print('Weighted Precision: {:.2f}'.format(precision_score(data_test.Polarity, predictions, average='weighted')))\n",
        "print('Weighted Recall: {:.2f}'.format(recall_score(data_test.Polarity, predictions, average='weighted')))\n",
        "print('Weighted F1-score: {:.2f}'.format(f1_score(data_test.Polarity, predictions, average='weighted')))\n",
        "\n",
        "from sklearn.metrics import classification_report\n",
        "print('\\nClassification Report\\n')\n",
        "print(classification_report(data_test.Polarity, predictions, target_names=class_names))"
      ]
    },
    {
      "cell_type": "code",
      "execution_count": null,
      "metadata": {
        "id": "dujAReIW_r9N"
      },
      "outputs": [],
      "source": [
        "from sklearn.metrics import confusion_matrix, classification_report, log_loss, cohen_kappa_score, roc_auc_score, roc_curve\n",
        "from sklearn import metrics\n",
        "\n",
        "cm = confusion_matrix(data_test.Polarity, predictions)\n",
        "\n",
        "TP = cm[0][0]\n",
        "TN = cm[1][1]\n",
        "FP = cm[0][1]\n",
        "FN = cm[1][0]"
      ]
    },
    {
      "cell_type": "code",
      "execution_count": null,
      "metadata": {
        "id": "Sjk3y02p_r_b",
        "colab": {
          "base_uri": "https://localhost:8080/"
        },
        "outputId": "185baeaa-9646-4fb9-d642-23e0d363f62d"
      },
      "outputs": [
        {
          "output_type": "stream",
          "name": "stdout",
          "text": [
            "Sensitivity :  0.8725613593455003\n",
            "Specificity :  0.9779768570362075\n",
            "false positive rate :  0.02202314296379246\n",
            "false negative rate :  0.1274386406544997\n",
            "Negative Predictive Value :  0.8661157024793389\n",
            "False Discovery rate :  0.020833333333333332\n"
          ]
        }
      ],
      "source": [
        "from sklearn import metrics\n",
        "print('Sensitivity : ', TP/(TP+FN))\n",
        "print('Specificity : ', TN/(TN+FP))\n",
        "print('false positive rate : ', FP/(FP+TN))\n",
        "print('false negative rate : ', FN/(FN+TP))\n",
        "print('Negative Predictive Value : ', TN/(TN+FN))\n",
        "print('False Discovery rate : ', FP/(TP+FP))\n"
      ]
    },
    {
      "cell_type": "code",
      "execution_count": null,
      "metadata": {
        "id": "ArBoUU4D_0zw",
        "colab": {
          "base_uri": "https://localhost:8080/"
        },
        "outputId": "9afc07e8-388b-46d9-91c4-628df0b0a52f"
      },
      "outputs": [
        {
          "output_type": "stream",
          "name": "stdout",
          "text": [
            "333/333 [==============================] - 7s 22ms/step\n",
            "Mean Absolute Error: 0.10541719\n",
            "333/333 [==============================] - 8s 23ms/step\n",
            "Mean Squared Error: 0.05022877\n",
            "333/333 [==============================] - 7s 21ms/step\n",
            "Root Mean Squared Error: 0.22411776\n",
            "Cohen_Kappa_Score: 0.8055132801764527\n"
          ]
        }
      ],
      "source": [
        "print('Mean Absolute Error:', metrics.mean_absolute_error(y_test,model.predict(X_test_pad)))\n",
        "print('Mean Squared Error:', metrics.mean_squared_error(y_test,model.predict(X_test_pad)))\n",
        "print('Root Mean Squared Error:', np.sqrt(metrics.mean_squared_error(y_test,model.predict(X_test_pad))))\n",
        "print('Cohen_Kappa_Score:', cohen_kappa_score(data_test.Polarity, predictions))"
      ]
    },
    {
      "cell_type": "code",
      "execution_count": null,
      "metadata": {
        "id": "yfkEtlil_02J",
        "colab": {
          "base_uri": "https://localhost:8080/"
        },
        "outputId": "2425d186-640b-4517-92dd-0869fab02f79"
      },
      "outputs": [
        {
          "output_type": "stream",
          "name": "stdout",
          "text": [
            "1/1 [==============================] - 0s 165ms/step\n",
            "Message: ['ব্যবহার করা হয়েছে ভালো ফলাফল পেয়েছি আর একটা নেব ইনশাআল্লাহ']\n",
            "predicted: Neutral (0.22 seconds)\n"
          ]
        }
      ],
      "source": [
        "import time\n",
        "\n",
        "message = ['ব্যবহার করা হয়েছে ভালো ফলাফল পেয়েছি আর একটা নেব ইনশাআল্লাহ']\n",
        "\n",
        "seq = tokenizer.texts_to_sequences(message)\n",
        "padded = pad_sequences(seq, maxlen=max_seq_len)\n",
        "\n",
        "start_time = time.time()\n",
        "pred = model.predict(padded)\n",
        "\n",
        "print('Message: ' + str(message))\n",
        "print('predicted: {} ({:.2f} seconds)'.format(class_names[np.argmax(pred)], (time.time() - start_time)))"
      ]
    },
    {
      "cell_type": "code",
      "execution_count": null,
      "metadata": {
        "id": "VXdhoeVX_04r",
        "colab": {
          "base_uri": "https://localhost:8080/"
        },
        "outputId": "79fe2a91-aca9-4796-bf88-39641909e8a7"
      },
      "outputs": [
        {
          "output_type": "stream",
          "name": "stdout",
          "text": [
            "1/1 [==============================] - 0s 28ms/step\n",
            "Message: ['ফালতু প্রোডাক্ট দিছে কোন কাজে আসে না 😈😈😈']\n",
            "predicted: Negative (0.07 seconds)\n"
          ]
        }
      ],
      "source": [
        "import time\n",
        "\n",
        "message = [\"ফালতু প্রোডাক্ট দিছে কোন কাজে আসে না 😈😈😈\"]\n",
        "\n",
        "seq = tokenizer.texts_to_sequences(message)\n",
        "padded = pad_sequences(seq, maxlen=max_seq_len)\n",
        "\n",
        "start_time = time.time()\n",
        "pred = model.predict(padded)\n",
        "\n",
        "print('Message: ' + str(message))\n",
        "print('predicted: {} ({:.2f} seconds)'.format(class_names[np.argmax(pred)], (time.time() - start_time)))"
      ]
    },
    {
      "cell_type": "code",
      "execution_count": null,
      "metadata": {
        "id": "rCX8O6PK_07g",
        "colab": {
          "base_uri": "https://localhost:8080/"
        },
        "outputId": "2233a7d0-d47c-4070-9e9c-91fb10dfaa18"
      },
      "outputs": [
        {
          "output_type": "stream",
          "name": "stdout",
          "text": [
            "1/1 [==============================] - 0s 28ms/step\n",
            "Message: ['পেকেজিং মুটামুটি ঠিক আছে।']\n",
            "predicted: Negative (0.08 seconds)\n"
          ]
        }
      ],
      "source": [
        "import time\n",
        "\n",
        "message = [\"পেকেজিং মুটামুটি ঠিক আছে।\"]\n",
        "\n",
        "seq = tokenizer.texts_to_sequences(message)\n",
        "padded = pad_sequences(seq, maxlen=max_seq_len)\n",
        "\n",
        "start_time = time.time()\n",
        "pred = model.predict(padded)\n",
        "\n",
        "print('Message: ' + str(message))\n",
        "print('predicted: {} ({:.2f} seconds)'.format(class_names[np.argmax(pred)], (time.time() - start_time)))"
      ]
    }
  ],
  "metadata": {
    "accelerator": "GPU",
    "colab": {
      "gpuType": "T4",
      "provenance": []
    },
    "kernelspec": {
      "display_name": "Python 3",
      "name": "python3"
    },
    "language_info": {
      "name": "python"
    }
  },
  "nbformat": 4,
  "nbformat_minor": 0
}